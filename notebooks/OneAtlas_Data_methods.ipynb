{
 "cells": [
  {
   "cell_type": "markdown",
   "metadata": {},
   "source": [
    "## OneAtlas Data API methods including authentication, contract info, and search. Methods used here are described in the One Atlas Data API Reference: https://api.oneatlas.airbus.com/api-catalog/oneatlas-data/index.html"
   ]
  },
  {
   "cell_type": "markdown",
   "metadata": {},
   "source": [
    "#### Get a bearer token"
   ]
  },
  {
   "cell_type": "code",
   "execution_count": null,
   "metadata": {},
   "outputs": [],
   "source": [
    "import requests\n",
    "from json import loads, dumps\n",
    "import getpass\n",
    "\n",
    "api_key = getpass.getpass('Enter your API key: ')\n",
    "\n",
    "url = \"https://authenticate.foundation.api.oneatlas.airbus.com/auth/realms/IDP/protocol/openid-connect/token\"\n",
    "payload='client_id=IDP&grant_type=api_key&apikey=' + api_key\n",
    "headers = {\n",
    "  'Content-Type': 'application/x-www-form-urlencoded'\n",
    "}\n",
    "response = requests.request(\"POST\", url, headers=headers, data=payload)\n",
    "auth_header = 'Bearer ' + (loads(response.text)[\"access_token\"])"
   ]
  },
  {
   "cell_type": "markdown",
   "metadata": {},
   "source": [
    "#### Get contract information including the workspace ID"
   ]
  },
  {
   "cell_type": "code",
   "execution_count": null,
   "metadata": {
    "scrolled": true
   },
   "outputs": [],
   "source": [
    "url = \"https://data.api.oneatlas.airbus.com/api/v1/me\"\n",
    "\n",
    "payload={}\n",
    "headers = {\n",
    "  'Authorization': auth_header\n",
    "}\n",
    "\n",
    "my_info = requests.request(\"GET\", url, headers=headers, data=payload)\n",
    "\n",
    "contract_id = loads(my_info.text)[\"contract\"][\"id\"]\n",
    "workspace_id = loads(my_info.text)[\"contract\"][\"workspaceId\"]\n",
    "\n",
    "print(dumps(loads(my_info.text), indent=4, sort_keys=True))"
   ]
  },
  {
   "cell_type": "markdown",
   "metadata": {},
   "source": [
    "#### Search the workspace"
   ]
  },
  {
   "cell_type": "code",
   "execution_count": null,
   "metadata": {
    "scrolled": true
   },
   "outputs": [],
   "source": [
    "url = \"https://search.foundation.api.oneatlas.airbus.com/api/v1/opensearch\"\n",
    "\n",
    "querystring = {\"itemsPerPage\":100, \"startPage\":1, \"sortBy\": \"-publicationDate\", \"workspace\": workspace_id}\n",
    "headers = {\n",
    "    'Cache-Control': 'no-cache',\n",
    "    'Authorization': auth_header, \n",
    "    'Content-Type': 'application/json'}\n",
    "\n",
    "response = requests.request('GET', url, headers=headers, params=querystring)\n",
    "\n",
    "print(dumps(loads(response.text), indent=4, sort_keys=True))"
   ]
  },
  {
   "cell_type": "markdown",
   "metadata": {},
   "source": [
    "#### Get select information about the workspace search results that are available for download"
   ]
  },
  {
   "cell_type": "code",
   "execution_count": null,
   "metadata": {},
   "outputs": [],
   "source": [
    "image_properties = []\n",
    "image_geometries = []\n",
    "image_hrefs = []\n",
    "image_resource_ids =[]\n",
    "image_names = []\n",
    "\n",
    "i = 1\n",
    "dl = True\n",
    "rid = True\n",
    "for feature in loads(response.text)['features']:\n",
    "    image_properties.append(feature['properties'])\n",
    "    image_geometries.append(feature['geometry'])\n",
    "    try:\n",
    "        if 'download' in feature['_links']:\n",
    "            image_hrefs.append(feature['_links']['download'][2]['href'])\n",
    "            dl = True\n",
    "    except:\n",
    "        dl = False\n",
    "    if dl == True:\n",
    "        try:\n",
    "            image_resource_ids.append(feature['_links']['download'][2]['resourceId'])\n",
    "            rid = True\n",
    "        except:\n",
    "            rid = False\n",
    "    image_names.append(feature['properties']['sourceIdentifier'])\n",
    "    i += 1\n",
    "    dl = True\n",
    "    rid = True\n",
    "    \n",
    "index = 0\n",
    "for item in image_names:\n",
    "    print(image_names[index], ' ', image_hrefs[index], ' ', image_resource_ids[index] )\n",
    "    print(image_properties[index])\n",
    "    print(image_geometries[index])\n",
    "    print('\\n')\n",
    "index += 1"
   ]
  },
  {
   "cell_type": "markdown",
   "metadata": {},
   "source": [
    "#### Search the One Atlas Data catalog by acquisition date range, geometry, cloud cover, incident angle, etc."
   ]
  },
  {
   "cell_type": "code",
   "execution_count": null,
   "metadata": {
    "scrolled": true
   },
   "outputs": [],
   "source": [
    "url = \"https://search.foundation.api.oneatlas.airbus.com/api/v1/opensearch\"\n",
    "\n",
    "payload=\"{\\\"itemsPerPage\\\":100,\\\"startPage\\\":1,\\\"productType\\\":\\\"bundle,mono\\\",\\\"acquisitionDate\\\":\\\"[2021-03-01T00:00:00.000Z,2021-04-01T23:59:59.999Z]\\\",\\\"cloudCover\\\":\\\"[0,10]\\\",\\\"incidenceAngle\\\":\\\"[0,33]\\\",\\\"sortBy\\\":\\\"-publicationDate\\\",\\\"workspace\\\":\\\"public\\\",\\\"relation\\\":\\\"intersects\\\",\\\"geometry\\\":{\\\"type\\\":\\\"Polygon\\\",\\\"coordinates\\\":[[[-9.176808297561358,38.728242233199325],[-9.16970342383137,38.728242233199325],[-9.16970342383137,38.73326393859847],[-9.176808297561358,38.73326393859847],[-9.176808297561358,38.728242233199325]]]}}\"\n",
    "headers = {\n",
    "  'Authorization': auth_header,\n",
    "  'Content-Type': 'application/json'\n",
    "}\n",
    "\n",
    "response = requests.request(\"POST\", url, headers=headers, data=payload)\n",
    "\n",
    "print(dumps(loads(response.text), indent=4, sort_keys=True))"
   ]
  },
  {
   "cell_type": "markdown",
   "metadata": {},
   "source": [
    "#### Get additional details about the subscription, contracts, orders, deliveries, reports, etc."
   ]
  },
  {
   "cell_type": "code",
   "execution_count": null,
   "metadata": {
    "scrolled": true
   },
   "outputs": [],
   "source": [
    "# Use one of these endpoints as the URL for specific details\n",
    "\n",
    "# 'https://data.api.oneatlas.airbus.com/api/v1/contracts/{}/cisContracts'.format(contract_id)\n",
    "# 'https://data.api.oneatlas.airbus.com/api/v1/contracts/{}/deliveries'.format(contract_id)\n",
    "# 'https://data.api.oneatlas.airbus.com/api/v1/contracts/{}/orders'.format(contract_id)\n",
    "# 'https://data.api.oneatlas.airbus.com/api/v1/contracts/{}/payments'.format(contract_id)\n",
    "# 'https://data.api.oneatlas.airbus.com/api/v1/contracts/{}/reports'.format(contract_id)\n",
    "# 'https://data.api.oneatlas.airbus.com/api/v1/contracts/{}'.format(contract_id)\n",
    "# 'https://data.api.oneatlas.airbus.com/api/v1/contracts/{}/subscriptions'.format(contract_id)\n",
    "\n",
    "url = 'https://data.api.oneatlas.airbus.com/api/v1/contracts/{}/subscriptions'.format(contract_id)\n",
    "\n",
    "headers = {\n",
    "  'Authorization': auth_header\n",
    "}\n",
    "\n",
    "response = requests.request(\"GET\", url, headers=headers)\n",
    "print(dumps(loads(response.text), indent=4, sort_keys=True))"
   ]
  }
 ],
 "metadata": {
  "esriNotebookRuntime": {
   "notebookRuntimeName": "ArcGIS Notebook Python 3 Standard",
   "notebookRuntimeVersion": "4.0"
  },
  "kernelspec": {
   "display_name": "Python 3 (ipykernel)",
   "language": "python",
   "name": "python3"
  },
  "language_info": {
   "codemirror_mode": {
    "name": "ipython",
    "version": 3
   },
   "file_extension": ".py",
   "mimetype": "text/x-python",
   "name": "python",
   "nbconvert_exporter": "python",
   "pygments_lexer": "ipython3",
   "version": "3.11.8"
  }
 },
 "nbformat": 4,
 "nbformat_minor": 2
}
